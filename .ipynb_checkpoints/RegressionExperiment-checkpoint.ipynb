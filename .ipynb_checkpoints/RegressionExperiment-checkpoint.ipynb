{
 "cells": [
  {
   "cell_type": "code",
   "execution_count": 1,
   "metadata": {
    "collapsed": true
   },
   "outputs": [],
   "source": [
    "from numpy import *\n",
    "import torch\n",
    "import random\n",
    "from sklearn.externals.joblib import Memory\n",
    "from sklearn.datasets import load_svmlight_file\n",
    "from sklearn.model_selection import train_test_split\n",
    "import matplotlib.pyplot as plt"
   ]
  },
  {
   "cell_type": "code",
   "execution_count": 2,
   "metadata": {
    "collapsed": false
   },
   "outputs": [
    {
     "name": "stderr",
     "output_type": "stream",
     "text": [
      "/home/frankie/anaconda3/lib/python3.6/site-packages/sklearn/externals/joblib/logger.py:77: DeprecationWarning: The 'warn' function is deprecated, use 'warning' instead\n",
      "  logging.warn(\"[%s]: %s\" % (self, msg))\n",
      "WARNING:root:[MemorizedFunc(func=<function get_data at 0x7fef0c354a60>, cachedir='./mycache/joblib')]: Clearing cache ./mycache/joblib/__main__--mnt-Code-wamp-www-Github-frankie-__ipython-input__/get_data\n"
     ]
    },
    {
     "name": "stdout",
     "output_type": "stream",
     "text": [
      "________________________________________________________________________________\n",
      "[Memory] Calling __main__--mnt-Code-wamp-www-Github-frankie-__ipython-input__.get_data...\n",
      "get_data()\n",
      "_________________________________________________________get_data - 0.1s, 0.0min\n"
     ]
    }
   ],
   "source": [
    "# 数据预处理，训练集和验证集七三分\n",
    "\n",
    "dtype = torch.FloatTensor\n",
    "\n",
    "mem = Memory(\"./mycache\")\n",
    "@mem.cache\n",
    "def get_data():\n",
    "    data = load_svmlight_file(\"data/housing_scale.txt\")\n",
    "    return data[0], data[1]\n",
    "\n",
    "x, y = get_data()\n",
    "\n",
    "x_train, x_test, y_train, y_test = train_test_split(x, y, test_size=0.30, random_state=42)\n",
    "\n",
    "# 112x13\n",
    "x_test = x_test.toarray()\n",
    "x_test = torch.from_numpy(x_test).type(dtype)\n",
    "# x_test = x_test.t()\n",
    "# print(x_test.size())\n",
    "\n",
    "# 394x13\n",
    "x_train = x_train.toarray()\n",
    "x_train = torch.from_numpy(x_train).type(dtype)\n",
    "# x_train = x_train.t()\n",
    "# print(x_train.size())\n",
    "\n",
    "# 112x1\n",
    "y_test = array(y_test).reshape(size(y_test,0),1)\n",
    "y_test = torch.from_numpy(y_test).type(dtype)\n",
    "# print(y_test.size())\n",
    "\n",
    "# 394x1\n",
    "y_train = array(y_train).reshape(size(y_train,0),1)\n",
    "y_train = torch.from_numpy(y_train).type(dtype)\n",
    "# print(y_train.size())\n",
    "\n",
    "# 最大特征数 13\n",
    "num_feature = max(x_train.size(1), x_test.size(1))\n",
    "\n",
    "bias = torch.ones(1, x_train.size(0))\n",
    "bias = bias.t()\n",
    "x_train = torch.cat((x_train, bias), 1)\n",
    "\n",
    "bias = torch.ones(1, x_test.size(0))\n",
    "bias = bias.t()\n",
    "x_test = torch.cat((x_test, bias), 1)\n",
    "\n",
    "w = []\n",
    "\n",
    "# 全零初始化\n",
    "w.append(torch.zeros(num_feature + 1, 1))\n",
    "\n",
    "#学习率\n",
    "l_r = 0.1\n",
    "#训练集规模\n",
    "len_train = x_train.size(0)\n",
    "# 验证集规模\n",
    "len_test = x_test.size(0)\n",
    "#迭代次数\n",
    "time_iteration = 20\n",
    "\n",
    "Y_train = []\n",
    "Y_vali = []"
   ]
  },
  {
   "cell_type": "code",
   "execution_count": 3,
   "metadata": {
    "collapsed": true
   },
   "outputs": [],
   "source": [
    "# 开始迭代\n",
    "for k in range(time_iteration):\n",
    "    Loss_sum = 0\n",
    "    for l in range(len_train):\n",
    "        h = torch.mm(w[k][:,:].t(), x_train[l:l+1][:].t())\n",
    "        Loss_sum += (h - y_train[l]) * x_train[l]\n",
    "    direction = -(Loss_sum / len_train)\n",
    "    w.append(w[k] + l_r*direction.t())\n",
    "    Y_train.append(torch.mean(Loss_sum))\n",
    "\n",
    "    Loss_vali = 0\n",
    "    for l in range(len_test):\n",
    "        h = torch.mm(w[k][:,:].t(), x_test[l:l+1][:].t())\n",
    "        Loss_vali += (h - y_test[l]) * x_test[l]\n",
    "    Y_vali.append(torch.mean(Loss_vali))"
   ]
  },
  {
   "cell_type": "code",
   "execution_count": 4,
   "metadata": {
    "collapsed": false
   },
   "outputs": [
    {
     "data": {
      "image/png": "[encoded data removed]",
      "text/plain": [
       "<matplotlib.figure.Figure at 0x7feeb2646710>"
      ]
     },
     "metadata": {},
     "output_type": "display_data"
    }
   ],
   "source": [
    "# %matplotlib inline\n",
    "iteras = range(1, time_iteration + 1)\n",
    "plt.rcParams['figure.figsize'] = (10, 10)\n",
    "plt.xlabel('iteration')\n",
    "plt.ylabel('loss')\n",
    "plt.title('Loss history')\n",
    "plt.plot(iteras, Y_train, label = \"train loss\")\n",
    "plt.plot(iteras, Y_vali, label = \"validation loss\")\n",
    "plt.legend(loc = 'best')\n",
    "plt.show()"
   ]
  },
  {
   "cell_type": "code",
   "execution_count": null,
   "metadata": {
    "collapsed": true
   },
   "outputs": [],
   "source": []
  }
 ],
 "metadata": {
  "kernelspec": {
   "display_name": "Python 3",
   "language": "python",
   "name": "python3"
  },
  "language_info": {
   "codemirror_mode": {
    "name": "ipython",
    "version": 3
   },
   "file_extension": ".py",
   "mimetype": "text/x-python",
   "name": "python",
   "nbconvert_exporter": "python",
   "pygments_lexer": "ipython3",
   "version": "3.6.0"
  }
 },
 "nbformat": 4,
 "nbformat_minor": 2
}
