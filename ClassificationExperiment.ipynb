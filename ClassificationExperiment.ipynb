{
 "cells": [
  {
   "cell_type": "code",
   "execution_count": 4,
   "metadata": {
    "collapsed": true
   },
   "outputs": [],
   "source": [
    "from numpy import *\n",
    "import torch\n",
    "import random\n",
    "from sklearn.externals.joblib import Memory\n",
    "from sklearn.datasets import load_svmlight_file\n",
    "from sklearn.model_selection import train_test_split\n",
    "import matplotlib.pyplot as plt"
   ]
  },
  {
   "cell_type": "code",
   "execution_count": 5,
   "metadata": {
    "collapsed": false
   },
   "outputs": [],
   "source": [
    "# 数据预处理，训练集和验证集七三分\n",
    "\n",
    "dtype = torch.FloatTensor\n",
    "\n",
    "mem = Memory(\"./mycache\")\n",
    "@mem.cache\n",
    "def get_data():\n",
    "    data = load_svmlight_file(\"data/australian_scale.txt\")\n",
    "    return data[0], data[1]\n",
    "\n",
    "x, y = get_data()\n",
    "\n",
    "x_train, x_vali, y_train, y_vali = train_test_split(x, y, test_size=0.30, random_state=42)\n",
    "\n",
    "# 483 x 14\n",
    "x_train = x_train.toarray()\n",
    "x_train = torch.from_numpy(x_train).type(dtype)\n",
    "# print(x_train.size())\n",
    "\n",
    "# 483 x 1\n",
    "y_train = array(y_train).reshape(size(y_train,0),1)\n",
    "y_train = torch.from_numpy(y_train).type(dtype)\n",
    "# print(y_train.size())\n",
    "\n",
    "# 207 x 14\n",
    "x_vali = x_vali.toarray()\n",
    "x_vali = torch.from_numpy(x_vali).type(dtype)\n",
    "# print(x_vali.size())\n",
    "\n",
    "# 207 x 1\n",
    "y_vali = array(y_vali).reshape(size(y_vali,0),1)\n",
    "y_vali = torch.from_numpy(y_vali).type(dtype)\n",
    "# print(y_vali.size())\n",
    "\n",
    "# 最大特征数 14\n",
    "num_feature = max(x_train.size(1), x_vali.size(1))\n",
    "\n",
    "bias = torch.ones(1, x_train.size(0))\n",
    "bias = bias.t()\n",
    "x_train = torch.cat((x_train, bias), 1)\n",
    "\n",
    "bias = torch.ones(1, x_vali.size(0))\n",
    "bias = bias.t()\n",
    "x_vali = torch.cat((x_vali, bias), 1)\n",
    "\n",
    "w = []\n",
    "\n",
    "# 全零初始化\n",
    "w.append(torch.zeros(num_feature + 1, 1))\n",
    "\n",
    "# 阈值\n",
    "threshold = 0\n",
    "# 学习率\n",
    "l_r = 0.005\n",
    "#超参数\n",
    "tradeoff = 0.01\n",
    "# 训练集规模\n",
    "len_train = x_train.size(0)\n",
    "# 验证集规模\n",
    "len_vali = x_vali.size(0)\n",
    "#迭代次数\n",
    "time_iteration = 1000\n",
    "\n",
    "iteras = arange(1, time_iteration+1)\n",
    "Loss_train = []\n",
    "Loss_vali = []"
   ]
  },
  {
   "cell_type": "code",
   "execution_count": 6,
   "metadata": {
    "collapsed": false
   },
   "outputs": [
    {
     "name": "stdout",
     "output_type": "stream",
     "text": [
      "开始计算，迭代次数：1000\n"
     ]
    }
   ],
   "source": [
    "# 开始迭代\n",
    "print(\"开始计算，迭代次数：\" + str(time_iteration))\n",
    "for k in range(time_iteration):\n",
    "    Loss_sum = 0\n",
    "    grad_E = 0\n",
    "    # 迭代训练集\n",
    "    for l in range(len_train):\n",
    "        E = y_train[l][0] * torch.mm(w[k].t(), x_train[l:l+1, :].t())\n",
    "        if E[0][0] < 1:\n",
    "            Loss_sum += 1-E[0][0]\n",
    "            grad_E += y_train[l][0] * x_train[l:l+1, :].t()\n",
    "    grad = w[k] - tradeoff * grad_E\n",
    "    grad[-1][0] -= w[k][-1][0]\n",
    "    direction = -grad\n",
    "    w.append(w[k] + l_r * direction)\n",
    "    Loss_sum *= tradeoff\n",
    "    Loss_sum += square(torch.norm(w[k])) / 2\n",
    "    Loss = Loss_sum / len_train\n",
    "    Loss_train.append(Loss)\n",
    "\n",
    "    # 迭代验证集\n",
    "    Loss_sum = 0\n",
    "    for l in range(len_vali):\n",
    "        E = y_vali[l][0] * torch.mm(w[k].t(), x_vali[l:l+1, :].t())\n",
    "        if E[0][0] < 1:\n",
    "            Loss_sum += 1-E[0][0]\n",
    "    Loss_sum *= tradeoff\n",
    "    Loss_sum += square(torch.norm(w[k])) / 2\n",
    "    Loss = Loss_sum / len_vali\n",
    "    Loss_vali.append(Loss)"
   ]
  },
  {
   "cell_type": "code",
   "execution_count": 7,
   "metadata": {
    "collapsed": false
   },
   "outputs": [
    {
     "name": "stdout",
     "output_type": "stream",
     "text": [
      "准确率：0.8502415458937198\n"
     ]
    }
   ],
   "source": [
    "# 测试准确率\n",
    "time = 0\n",
    "for l in range(len_vali):\n",
    "    predict = torch.mm(w[time_iteration].t(), x_vali[l:l+1, :].t())\n",
    "    if predict[0][0] > 0 :\n",
    "        predict = 1\n",
    "    else:\n",
    "        predict = -1\n",
    "    if predict == y_vali[l][0]:\n",
    "        time += 1\n",
    "print('准确率：' + str(time/len_vali))"
   ]
  },
  {
   "cell_type": "code",
   "execution_count": 8,
   "metadata": {
    "collapsed": false
   },
   "outputs": [
    {
     "data": {
      "image/png": "[encoded data removed]",
      "text/plain": [
       "<matplotlib.figure.Figure at 0x7fbef83c0160>"
      ]
     },
     "metadata": {},
     "output_type": "display_data"
    }
   ],
   "source": [
    "plt.rcParams['figure.figsize'] = (10, 10)\n",
    "plt.xlabel('iteration')\n",
    "plt.ylabel('loss')\n",
    "plt.plot(iteras, Loss_train, label = \"train loss\")\n",
    "plt.plot(iteras, Loss_vali, label = \"validation loss\")\n",
    "plt.legend(loc = 'best')\n",
    "plt.show()"
   ]
  },
  {
   "cell_type": "code",
   "execution_count": null,
   "metadata": {
    "collapsed": true
   },
   "outputs": [],
   "source": []
  }
 ],
 "metadata": {
  "kernelspec": {
   "display_name": "Python 3",
   "language": "python",
   "name": "python3"
  },
  "language_info": {
   "codemirror_mode": {
    "name": "ipython",
    "version": 3
   },
   "file_extension": ".py",
   "mimetype": "text/x-python",
   "name": "python",
   "nbconvert_exporter": "python",
   "pygments_lexer": "ipython3",
   "version": "3.6.0"
  }
 },
 "nbformat": 4,
 "nbformat_minor": 2
}
